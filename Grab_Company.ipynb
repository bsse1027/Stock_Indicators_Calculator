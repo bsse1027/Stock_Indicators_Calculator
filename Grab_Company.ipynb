{
  "nbformat": 4,
  "nbformat_minor": 0,
  "metadata": {
    "colab": {
      "provenance": [],
      "collapsed_sections": [],
      "authorship_tag": "ABX9TyOqeBw2o5GkyUORtD5da84l",
      "include_colab_link": true
    },
    "kernelspec": {
      "name": "python3",
      "display_name": "Python 3"
    },
    "language_info": {
      "name": "python"
    }
  },
  "cells": [
    {
      "cell_type": "markdown",
      "metadata": {
        "id": "view-in-github",
        "colab_type": "text"
      },
      "source": [
        "<a href=\"https://colab.research.google.com/github/bsse1027/Stock_Indicators_Calculator/blob/main/Grab_Company.ipynb\" target=\"_parent\"><img src=\"https://colab.research.google.com/assets/colab-badge.svg\" alt=\"Open In Colab\"/></a>"
      ]
    },
    {
      "cell_type": "code",
      "execution_count": null,
      "metadata": {
        "id": "bNFRolkdet7b"
      },
      "outputs": [],
      "source": [
        "import json\n",
        "import requests\n",
        "import csv\n",
        "import array as arr\n",
        "from pprint import pprint\n",
        "import pandas as pd"
      ]
    },
    {
      "cell_type": "code",
      "source": [
        "def getCompanyCodeList():\n",
        "  response = requests.get(\"https://www.amarstock.com/LatestPrice/34267d8d73dd?fbclid=IwAR0UNljsm-ezbNkKryoHblOkrZNNzdjUGad6lcqQEydQbKuP7TRbZHYOFr4\")\n",
        "  response.raise_for_status()\n",
        "  if response.status_code == 200:\n",
        "    todos = json.loads(response.text)\n",
        "    all_company_list = []\n",
        "    for x in todos:\n",
        "      companyId = x['Scrip']\n",
        "      all_company_list.append(companyId)\n",
        "  return all_company_list"
      ],
      "metadata": {
        "id": "pKqWZB7bpmBZ"
      },
      "execution_count": 92,
      "outputs": []
    },
    {
      "cell_type": "code",
      "source": [
        "getCompanyCodeList()"
      ],
      "metadata": {
        "id": "pTxjJuY8pmsG"
      },
      "execution_count": null,
      "outputs": []
    },
    {
      "cell_type": "code",
      "source": [
        "def getMovingAverage(companyId):\n",
        "  response2 = requests.get(f\"https://www.amarstock.com/data/afe01cd8b512070a/?scrip={companyId}&cycle=Day1&dtFrom=2016-12-15T05%3A02%3A13.318Z&fbclid=IwAR0qZBhgiqSV6L6xTerlCEsXvVwtaLMaQvTqqMfUmjloMfBO2jocwV95DE8\")\n",
        "  if (response2.status_code == 200):  \n",
        "    todos2 = json.loads(response2.text)\n",
        "  json_string = json.dumps(todos2)\n",
        "  df = pd.read_json(json_string)\n",
        "  # for i in range(len(df)):\n",
        "  #   if df.loc[i, 'DateEpoch'] == 1483228800000:\n",
        "  #     print(f\"{df.loc[i, 'DateString']}\")\n",
        "  close_p = df[['Close', 'DateString', 'DateEpoch']].copy()\n",
        "  close_p['SMA12'] = close_p['Close'].rolling(12).mean()\n",
        "  final_list = close_p[['DateString', 'DateEpoch', 'SMA12']].copy()\n",
        "  return final_list.to_dict()"
      ],
      "metadata": {
        "id": "Nwcu1kNkptbi"
      },
      "execution_count": 98,
      "outputs": []
    },
    {
      "cell_type": "code",
      "source": [
        "companyId = \"BEXIMCO\"\n",
        "getMovingAverage(companyId)"
      ],
      "metadata": {
        "id": "bqkYRRMjy2zs"
      },
      "execution_count": null,
      "outputs": []
    },
    {
      "cell_type": "code",
      "source": [
        "def getMACD(companyId):\n",
        "  response2 = requests.get(f\"https://www.amarstock.com/data/afe01cd8b512070a/?scrip={companyId}&cycle=Day1&dtFrom=2016-12-15T05%3A02%3A13.318Z&fbclid=IwAR0qZBhgiqSV6L6xTerlCEsXvVwtaLMaQvTqqMfUmjloMfBO2jocwV95DE8\")\n",
        "  if (response2.status_code == 200):  \n",
        "    todos2 = json.loads(response2.text)\n",
        "  json_string = json.dumps(todos2)\n",
        "  df = pd.read_json(json_string)\n",
        "  # for i in range(len(df)):\n",
        "  #   if df.loc[i, 'DateEpoch'] == 1483228800000:\n",
        "  #     print(f\"{df.loc[i, 'DateString']}\")\n",
        "  close_p = df[['Close', 'DateString', 'DateEpoch']].copy()\n",
        "  # Get the 26-day EMA of the closing price\n",
        "  k = close_p['Close'].ewm(span=12, adjust=False).mean()\n",
        "  # Get the 12-day EMA of the closing price\n",
        "  d = close_p['Close'].ewm(span=26, adjust=False).mean()\n",
        "  # Subtract the 26-day EMA from the 12-Day EMA to get the MACD\n",
        "  macd = k - d\n",
        "  # Get the 9-Day EMA of the MACD for the Trigger line\n",
        "  macd_s = macd.ewm(span=9, adjust=False).mean()\n",
        "  # Calculate the difference between the MACD - Trigger for the Convergence/Divergence value\n",
        "  macd_h = macd - macd_s\n",
        "  # Add all of our new values for the MACD to the dataframe\n",
        "  close_p['macd'] = df.index.map(macd)\n",
        "  close_p['macd_h'] = df.index.map(macd_h)\n",
        "  close_p['signal'] = df.index.map(macd_s)\n",
        "  final_macd = close_p[['DateString', 'DateEpoch', 'macd', 'signal']].copy()\n",
        "  return final_macd.to_dict()"
      ],
      "metadata": {
        "id": "EpVehNOy3_3W"
      },
      "execution_count": 106,
      "outputs": []
    },
    {
      "cell_type": "code",
      "source": [
        "companyId = \"BEXIMCO\"\n",
        "getMACD(companyId)"
      ],
      "metadata": {
        "id": "S2mZaJP-KDeU"
      },
      "execution_count": null,
      "outputs": []
    },
    {
      "cell_type": "code",
      "source": [
        "def getRSI(companyId):\n",
        "  response2 = requests.get(f\"https://www.amarstock.com/data/afe01cd8b512070a/?scrip={companyId}&cycle=Day1&dtFrom=2016-12-15T05%3A02%3A13.318Z&fbclid=IwAR0qZBhgiqSV6L6xTerlCEsXvVwtaLMaQvTqqMfUmjloMfBO2jocwV95DE8\")\n",
        "  if (response2.status_code == 200):  \n",
        "    todos2 = json.loads(response2.text)\n",
        "  json_string = json.dumps(todos2)\n",
        "  df = pd.read_json(json_string)\n",
        "  # for i in range(len(df)):\n",
        "  #   if df.loc[i, 'DateEpoch'] == 1483228800000:\n",
        "  #     print(f\"{df.loc[i, 'DateString']}\")\n",
        "  close_p = df[['Close', 'DateString', 'DateEpoch']].copy()\n",
        "  # Calculate Price Differences\n",
        "  close_p['diff'] = close_p['Close'].diff(1)\n",
        "  # Calculate Avg. Gains/Losses\n",
        "  close_p['gain'] = close_p['diff'].clip(lower=0).round(2)\n",
        "  close_p['loss'] = close_p['diff'].clip(upper=0).abs().round(2)\n",
        "\n",
        "  window_length = 14\n",
        "  # Get initial Averages\n",
        "  close_p['avg_gain'] = close_p['gain'].rolling(window=window_length, min_periods=window_length).mean()[:window_length+1]\n",
        "  close_p['avg_loss'] = close_p['loss'].rolling(window=window_length, min_periods=window_length).mean()[:window_length+1]\n",
        "\n",
        "\n",
        "  # Get WMS averages\n",
        "  # Average Gains\n",
        "  for i, row in enumerate(close_p['avg_gain'].iloc[window_length+1:]):\n",
        "      close_p['avg_gain'].iloc[i + window_length + 1] =\\\n",
        "          (close_p['avg_gain'].iloc[i + window_length] *\n",
        "          (window_length - 1) +\n",
        "          close_p['gain'].iloc[i + window_length + 1])\\\n",
        "          / window_length\n",
        "  # Average Losses\n",
        "  for i, row in enumerate(close_p['avg_loss'].iloc[window_length+1:]):\n",
        "      close_p['avg_loss'].iloc[i + window_length + 1] =\\\n",
        "          (close_p['avg_loss'].iloc[i + window_length] *\n",
        "          (window_length - 1) +\n",
        "          close_p['loss'].iloc[i + window_length + 1])\\\n",
        "          / window_length\n",
        "  # Calculate RS\n",
        "  close_p['rs'] = close_p['avg_gain'] / close_p['avg_loss']\n",
        "  # Calculate RSI\n",
        "  close_p['rsi'] = 100 - (100 / (1.0 + close_p['rs']))\n",
        "  final_rsi = close_p[['DateString', 'DateEpoch', 'rsi']].copy()\n",
        "  return final_rsi.to_dict()"
      ],
      "metadata": {
        "id": "ZxhnZg1YKIPS"
      },
      "execution_count": 104,
      "outputs": []
    },
    {
      "cell_type": "code",
      "source": [
        "companyId = \"BEXIMCO\"\n",
        "getRSI(companyId)"
      ],
      "metadata": {
        "id": "iXBE_WCbdJbw"
      },
      "execution_count": null,
      "outputs": []
    }
  ]
}