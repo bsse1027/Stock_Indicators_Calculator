{
  "nbformat": 4,
  "nbformat_minor": 0,
  "metadata": {
    "colab": {
      "provenance": [],
      "collapsed_sections": [],
      "authorship_tag": "ABX9TyMxg0SR10q6qruUud5xdFo4",
      "include_colab_link": true
    },
    "kernelspec": {
      "name": "python3",
      "display_name": "Python 3"
    },
    "language_info": {
      "name": "python"
    }
  },
  "cells": [
    {
      "cell_type": "markdown",
      "metadata": {
        "id": "view-in-github",
        "colab_type": "text"
      },
      "source": [
        "<a href=\"https://colab.research.google.com/github/bsse1027/Stock_Indicators_Calculator/blob/main/Grab_Company.ipynb\" target=\"_parent\"><img src=\"https://colab.research.google.com/assets/colab-badge.svg\" alt=\"Open In Colab\"/></a>"
      ]
    },
    {
      "cell_type": "code",
      "execution_count": 1,
      "metadata": {
        "id": "bNFRolkdet7b"
      },
      "outputs": [],
      "source": [
        "import json\n",
        "import requests\n",
        "import csv\n",
        "import array as arr\n",
        "from pprint import pprint\n",
        "import pandas as pd"
      ]
    },
    {
      "cell_type": "code",
      "source": [
        "def getCompanyCodeList():\n",
        "  response = requests.get(\"https://www.amarstock.com/LatestPrice/34267d8d73dd?fbclid=IwAR0UNljsm-ezbNkKryoHblOkrZNNzdjUGad6lcqQEydQbKuP7TRbZHYOFr4\")\n",
        "  response.raise_for_status()\n",
        "  if response.status_code == 200:\n",
        "    todos = json.loads(response.text)\n",
        "    all_company_list = []\n",
        "    for x in todos:\n",
        "      companyId = x['Scrip']\n",
        "      all_company_list.append(companyId)\n",
        "  return all_company_list"
      ],
      "metadata": {
        "id": "pKqWZB7bpmBZ"
      },
      "execution_count": null,
      "outputs": []
    },
    {
      "cell_type": "code",
      "source": [
        "cl = getCompanyCodeList()\n",
        "len(cl)"
      ],
      "metadata": {
        "colab": {
          "base_uri": "https://localhost:8080/"
        },
        "id": "pTxjJuY8pmsG",
        "outputId": "0a4557c0-1f92-4a58-d476-f3b9ef7b4a61"
      },
      "execution_count": null,
      "outputs": [
        {
          "output_type": "execute_result",
          "data": {
            "text/plain": [
              "388"
            ]
          },
          "metadata": {},
          "execution_count": 3
        }
      ]
    },
    {
      "cell_type": "code",
      "source": [
        "def getMovingAverage(companyId):\n",
        "  response2 = requests.get(f\"https://www.amarstock.com/data/afe01cd8b512070a/?scrip={companyId}&cycle=Day1&dtFrom=2016-12-15T05%3A02%3A13.318Z&fbclid=IwAR0qZBhgiqSV6L6xTerlCEsXvVwtaLMaQvTqqMfUmjloMfBO2jocwV95DE8\")\n",
        "  if (response2.status_code == 200):  \n",
        "    todos2 = json.loads(response2.text)\n",
        "  json_string = json.dumps(todos2)\n",
        "  df = pd.read_json(json_string)\n",
        "  # for i in range(len(df)):\n",
        "  #   if df.loc[i, 'DateEpoch'] == 1483228800000:\n",
        "  #     print(f\"{df.loc[i, 'DateString']}\")\n",
        "  close_p = df[['Close', 'DateString', 'DateEpoch']].copy()\n",
        "  close_p['SMA12'] = close_p['Close'].rolling(12).mean()\n",
        "  final_list = close_p[['DateString', 'DateEpoch', 'SMA12']].copy()\n",
        "  return final_list.to_dict()"
      ],
      "metadata": {
        "id": "Nwcu1kNkptbi"
      },
      "execution_count": null,
      "outputs": []
    },
    {
      "cell_type": "code",
      "source": [
        "companyId = \"BEXIMCO\"\n",
        "getMovingAverage(companyId)"
      ],
      "metadata": {
        "id": "bqkYRRMjy2zs"
      },
      "execution_count": null,
      "outputs": []
    },
    {
      "cell_type": "code",
      "source": [
        "def getMACD(companyId):\n",
        "  response2 = requests.get(f\"https://www.amarstock.com/data/afe01cd8b512070a/?scrip={companyId}&cycle=Day1&dtFrom=2016-12-15T05%3A02%3A13.318Z&fbclid=IwAR0qZBhgiqSV6L6xTerlCEsXvVwtaLMaQvTqqMfUmjloMfBO2jocwV95DE8\")\n",
        "  if (response2.status_code == 200):  \n",
        "    todos2 = json.loads(response2.text)\n",
        "  json_string = json.dumps(todos2)\n",
        "  df = pd.read_json(json_string)\n",
        "  # for i in range(len(df)):\n",
        "  #   if df.loc[i, 'DateEpoch'] == 1483228800000:\n",
        "  #     print(f\"{df.loc[i, 'DateString']}\")\n",
        "  close_p = df[['Close', 'DateString', 'DateEpoch']].copy()\n",
        "  # Get the 26-day EMA of the closing price\n",
        "  k = close_p['Close'].ewm(span=12, adjust=False).mean()\n",
        "  # Get the 12-day EMA of the closing price\n",
        "  d = close_p['Close'].ewm(span=26, adjust=False).mean()\n",
        "  # Subtract the 26-day EMA from the 12-Day EMA to get the MACD\n",
        "  macd = k - d\n",
        "  # Get the 9-Day EMA of the MACD for the Trigger line\n",
        "  macd_s = macd.ewm(span=9, adjust=False).mean()\n",
        "  # Calculate the difference between the MACD - Trigger for the Convergence/Divergence value\n",
        "  macd_h = macd - macd_s\n",
        "  # Add all of our new values for the MACD to the dataframe\n",
        "  close_p['macd'] = df.index.map(macd)\n",
        "  close_p['macd_h'] = df.index.map(macd_h)\n",
        "  close_p['signal'] = df.index.map(macd_s)\n",
        "  final_macd = close_p[['DateEpoch', 'macd']].copy()\n",
        "  return final_macd.to_dict()"
      ],
      "metadata": {
        "id": "EpVehNOy3_3W"
      },
      "execution_count": 65,
      "outputs": []
    },
    {
      "cell_type": "code",
      "source": [
        "companyId = \"BEXIMCO\"\n",
        "test = getMACD(companyId)\n",
        "test['DateEpoch'][0]\n",
        "test['macd'][0]"
      ],
      "metadata": {
        "id": "S2mZaJP-KDeU",
        "colab": {
          "base_uri": "https://localhost:8080/"
        },
        "outputId": "118cf7d2-1bbc-4991-81de-ffc8d6c7516a"
      },
      "execution_count": 68,
      "outputs": [
        {
          "output_type": "execute_result",
          "data": {
            "text/plain": [
              "0.0"
            ]
          },
          "metadata": {},
          "execution_count": 68
        }
      ]
    },
    {
      "cell_type": "code",
      "source": [
        "def getRSI(companyId):\n",
        "  response2 = requests.get(f\"https://www.amarstock.com/data/afe01cd8b512070a/?scrip={companyId}&cycle=Day1&dtFrom=2016-12-15T05%3A02%3A13.318Z&fbclid=IwAR0qZBhgiqSV6L6xTerlCEsXvVwtaLMaQvTqqMfUmjloMfBO2jocwV95DE8\")\n",
        "  if (response2.status_code == 200):  \n",
        "    todos2 = json.loads(response2.text)\n",
        "  json_string = json.dumps(todos2)\n",
        "  df = pd.read_json(json_string)\n",
        "  # for i in range(len(df)):\n",
        "  #   if df.loc[i, 'DateEpoch'] == 1483228800000:\n",
        "  #     print(f\"{df.loc[i, 'DateString']}\")\n",
        "  close_p = df[['Close', 'DateString', 'DateEpoch']].copy()\n",
        "  # Calculate Price Differences\n",
        "  close_p['diff'] = close_p['Close'].diff(1)\n",
        "  # Calculate Avg. Gains/Losses\n",
        "  close_p['gain'] = close_p['diff'].clip(lower=0).round(2)\n",
        "  close_p['loss'] = close_p['diff'].clip(upper=0).abs().round(2)\n",
        "\n",
        "  window_length = 14\n",
        "  # Get initial Averages\n",
        "  close_p['avg_gain'] = close_p['gain'].rolling(window=window_length, min_periods=window_length).mean()[:window_length+1]\n",
        "  close_p['avg_loss'] = close_p['loss'].rolling(window=window_length, min_periods=window_length).mean()[:window_length+1]\n",
        "\n",
        "\n",
        "  # Get WMS averages\n",
        "  # Average Gains\n",
        "  for i, row in enumerate(close_p['avg_gain'].iloc[window_length+1:]):\n",
        "      close_p['avg_gain'].iloc[i + window_length + 1] =\\\n",
        "          (close_p['avg_gain'].iloc[i + window_length] *\n",
        "          (window_length - 1) +\n",
        "          close_p['gain'].iloc[i + window_length + 1])\\\n",
        "          / window_length\n",
        "  # Average Losses\n",
        "  for i, row in enumerate(close_p['avg_loss'].iloc[window_length+1:]):\n",
        "      close_p['avg_loss'].iloc[i + window_length + 1] =\\\n",
        "          (close_p['avg_loss'].iloc[i + window_length] *\n",
        "          (window_length - 1) +\n",
        "          close_p['loss'].iloc[i + window_length + 1])\\\n",
        "          / window_length\n",
        "  # Calculate RS\n",
        "  close_p['rs'] = close_p['avg_gain'] / close_p['avg_loss']\n",
        "  # Calculate RSI\n",
        "  close_p['rsi'] = 100 - (100 / (1.0 + close_p['rs']))\n",
        "  final_rsi = close_p[['DateString', 'DateEpoch', 'rsi']].copy()\n",
        "  return final_rsi.to_dict()"
      ],
      "metadata": {
        "id": "ZxhnZg1YKIPS"
      },
      "execution_count": null,
      "outputs": []
    },
    {
      "cell_type": "code",
      "source": [
        "companyId = \"BEXIMCO\"\n",
        "getRSI(companyId)"
      ],
      "metadata": {
        "id": "iXBE_WCbdJbw"
      },
      "execution_count": null,
      "outputs": []
    },
    {
      "cell_type": "code",
      "source": [
        "from collections import defaultdict\n",
        "def getdY_MACD_PE(companyId):\n",
        "  result = defaultdict(list)\n",
        "  response1 = requests.get(f\"https://www.amarstock.com/data/1258dca00155/{companyId}\")\n",
        "  data = response1.json()\n",
        "  annual_div = (data['DividentYield'] * data['LastTrade'])/100\n",
        "\n",
        "  response2 = requests.get(f\"https://www.amarstock.com/data/afe01cd8b512070a/?scrip={companyId}&cycle=Day1&dtFrom=2016-12-15T05%3A02%3A13.318Z&fbclid=IwAR0qZBhgiqSV6L6xTerlCEsXvVwtaLMaQvTqqMfUmjloMfBO2jocwV95DE8\")\n",
        "  if (response2.status_code == 200):  \n",
        "    todos2 = json.loads(response2.text)\n",
        "  json_string = json.dumps(todos2)\n",
        "  df = pd.read_json(json_string)\n",
        "  modified_df = df.iloc[-5:]\n",
        "  modified_df.reset_index(inplace = True)\n",
        "  for i in range(len(modified_df)):\n",
        "    div_yield = (annual_div/(modified_df.loc[i, 'Close']))*100\n",
        "    #print(div_yield)\n",
        "    result[(modified_df.loc[i, \"DateEpoch\"])].append(div_yield) \n",
        "  # ### MACD #####\n",
        "  response2 = requests.get(f\"https://www.amarstock.com/data/afe01cd8b512070a/?scrip={companyId}&cycle=Day1&dtFrom=2016-12-15T05%3A02%3A13.318Z&fbclid=IwAR0qZBhgiqSV6L6xTerlCEsXvVwtaLMaQvTqqMfUmjloMfBO2jocwV95DE8\")\n",
        "  if (response2.status_code == 200):  \n",
        "    todos2 = json.loads(response2.text)\n",
        "  json_string = json.dumps(todos2)\n",
        "  df = pd.read_json(json_string)\n",
        "  close_p = df[['Close', 'DateString', 'DateEpoch']].copy()\n",
        "  # Get the 26-day EMA of the closing price\n",
        "  k = close_p['Close'].ewm(span=12, adjust=False).mean()\n",
        "  # Get the 12-day EMA of the closing price\n",
        "  d = close_p['Close'].ewm(span=26, adjust=False).mean()\n",
        "  # Subtract the 26-day EMA from the 12-Day EMA to get the MACD\n",
        "  macd = k - d\n",
        "  # Get the 9-Day EMA of the MACD for the Trigger line\n",
        "  macd_s = macd.ewm(span=9, adjust=False).mean()\n",
        "  # Calculate the difference between the MACD - Trigger for the Convergence/Divergence value\n",
        "  macd_h = macd - macd_s\n",
        "  # Add all of our new values for the MACD to the dataframe\n",
        "  close_p['macd'] = df.index.map(macd)\n",
        "  close_p['macd_h'] = df.index.map(macd_h)\n",
        "  close_p['signal'] = df.index.map(macd_s)\n",
        "  final_macd = close_p[['DateString', 'DateEpoch', 'macd', 'signal']].copy()\n",
        "  final_macd = final_macd.iloc[-5:]\n",
        "  final_macd.reset_index(inplace = True)\n",
        "  for i in range(len(final_macd)):\n",
        "    result[final_macd.loc[i, \"DateEpoch\"]].append(final_macd.loc[i, \"macd\"])\n",
        "  # PE Ratio\n",
        "  eps = data['EPS']\n",
        "  for l in range(len(modified_df)):\n",
        "    pe_ratio = modified_df.loc[l, 'Close'] / eps\n",
        "    result[(modified_df.loc[l, 'DateEpoch'])].append(pe_ratio)\n",
        "  return result"
      ],
      "metadata": {
        "id": "OiVITF6yTLkI"
      },
      "execution_count": 86,
      "outputs": []
    },
    {
      "cell_type": "code",
      "source": [
        "companyId = \"BBSCABLES\"\n",
        "getdY_MACD_PE(companyId)"
      ],
      "metadata": {
        "colab": {
          "base_uri": "https://localhost:8080/"
        },
        "id": "lVacgHMO2b4F",
        "outputId": "1aeba773-68d1-454a-a1c8-c70fd4d0c550"
      },
      "execution_count": 87,
      "outputs": [
        {
          "output_type": "execute_result",
          "data": {
            "text/plain": [
              "defaultdict(list,\n",
              "            {1664150400000: [1.772044198895028,\n",
              "              -0.11144918037099671,\n",
              "              11.21900826446281],\n",
              "             1664236800000: [1.781888888888889,\n",
              "              -0.14595326386776009,\n",
              "              11.15702479338843],\n",
              "             1664323200000: [1.7753136531365317,\n",
              "              -0.1553686767057556,\n",
              "              11.198347107438018],\n",
              "             1664409600000: [1.7368592057761736,\n",
              "              -0.06524834571893479,\n",
              "              11.446280991735538],\n",
              "             1664668800000: [1.58, 0.4448487608458791, 12.582644628099173]})"
            ]
          },
          "metadata": {},
          "execution_count": 87
        }
      ]
    }
  ]
}