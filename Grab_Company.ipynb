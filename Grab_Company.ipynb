{
  "nbformat": 4,
  "nbformat_minor": 0,
  "metadata": {
    "colab": {
      "provenance": [],
      "collapsed_sections": [],
      "authorship_tag": "ABX9TyNzYbWOBwEvSOWjSzsTBPzi",
      "include_colab_link": true
    },
    "kernelspec": {
      "name": "python3",
      "display_name": "Python 3"
    },
    "language_info": {
      "name": "python"
    }
  },
  "cells": [
    {
      "cell_type": "markdown",
      "metadata": {
        "id": "view-in-github",
        "colab_type": "text"
      },
      "source": [
        "<a href=\"https://colab.research.google.com/github/bsse1027/Stock_Indicators_Calculator/blob/main/Grab_Company.ipynb\" target=\"_parent\"><img src=\"https://colab.research.google.com/assets/colab-badge.svg\" alt=\"Open In Colab\"/></a>"
      ]
    },
    {
      "cell_type": "code",
      "execution_count": null,
      "metadata": {
        "id": "bNFRolkdet7b"
      },
      "outputs": [],
      "source": [
        "import json\n",
        "import requests\n",
        "import csv\n",
        "import array as arr\n",
        "from pprint import pprint\n"
      ]
    },
    {
      "cell_type": "code",
      "source": [
        "def getCompanyCodeList():\n",
        "  response = requests.get(\"https://www.amarstock.com/LatestPrice/34267d8d73dd?fbclid=IwAR0UNljsm-ezbNkKryoHblOkrZNNzdjUGad6lcqQEydQbKuP7TRbZHYOFr4\")\n",
        "  response.raise_for_status()\n",
        "  if response.status_code == 200:\n",
        "    todos = json.loads(response.text)\n",
        "    all_company_list = []\n",
        "    for x in todos:\n",
        "      companyId = x['Scrip']\n",
        "      all_company_list.append(companyId)\n",
        "  return all_company_list"
      ],
      "metadata": {
        "id": "pKqWZB7bpmBZ"
      },
      "execution_count": 45,
      "outputs": []
    },
    {
      "cell_type": "code",
      "source": [
        "len(getCompanyCodeList())"
      ],
      "metadata": {
        "colab": {
          "base_uri": "https://localhost:8080/"
        },
        "id": "pTxjJuY8pmsG",
        "outputId": "3031213e-1ec5-4b73-e302-32195807e7a7"
      },
      "execution_count": 48,
      "outputs": [
        {
          "output_type": "execute_result",
          "data": {
            "text/plain": [
              "388"
            ]
          },
          "metadata": {},
          "execution_count": 48
        }
      ]
    },
    {
      "cell_type": "code",
      "source": [
        "import pandas as pd\n",
        "import json\n",
        "\n",
        "#def getMovingAverage(companyId):\n",
        "companyId = \"BEXIMCO\"\n",
        "response2 = requests.get(f\"https://www.amarstock.com/data/afe01cd8b512070a/?scrip={companyId}&cycle=Day1&dtFrom=2016-12-15T05%3A02%3A13.318Z&fbclid=IwAR0qZBhgiqSV6L6xTerlCEsXvVwtaLMaQvTqqMfUmjloMfBO2jocwV95DE8\")\n",
        "if (response2.status_code == 200):  \n",
        "  todos2 = json.loads(response2.text)\n",
        "json_string = json.dumps(todos2)\n",
        "df = pd.read_json(json_string)\n",
        "for i in range(len(df)):\n",
        "  if df.loc[i, 'DateEpoch'] == 1483228800000:\n",
        "    print(f\"{df.loc[i, 'DateString']}\")\n"
      ],
      "metadata": {
        "colab": {
          "base_uri": "https://localhost:8080/"
        },
        "id": "Nwcu1kNkptbi",
        "outputId": "03cc2c81-21ca-43e3-c3c1-0678054a1351"
      },
      "execution_count": 42,
      "outputs": [
        {
          "output_type": "stream",
          "name": "stdout",
          "text": [
            "01/01/2017 00:00:00\n"
          ]
        }
      ]
    },
    {
      "cell_type": "code",
      "source": [
        "companyId = \"BEXIMCO\"\n",
        "getMovingAverage(companyId)"
      ],
      "metadata": {
        "colab": {
          "base_uri": "https://localhost:8080/"
        },
        "id": "bqkYRRMjy2zs",
        "outputId": "8c6fc2f6-2f90-4c09-dccf-943d014a4713"
      },
      "execution_count": 31,
      "outputs": [
        {
          "output_type": "stream",
          "name": "stdout",
          "text": [
            "(1360, 14)\n"
          ]
        }
      ]
    },
    {
      "cell_type": "code",
      "source": [],
      "metadata": {
        "id": "EpVehNOy3_3W"
      },
      "execution_count": null,
      "outputs": []
    }
  ]
}